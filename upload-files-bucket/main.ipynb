{
 "cells": [
  {
   "cell_type": "code",
   "execution_count": 1,
   "metadata": {},
   "outputs": [],
   "source": [
    "import os\n",
    "from google.cloud import storage\n",
    "import requests"
   ]
  },
  {
   "cell_type": "code",
   "execution_count": 2,
   "metadata": {},
   "outputs": [],
   "source": [
    "os.environ['GOOGLE_APPLICATION_CREDENTIALS'] = 'psychic-force-362917-f897bf215a19.json'\n",
    "storage_client = storage.Client()"
   ]
  },
  {
   "cell_type": "code",
   "execution_count": 3,
   "metadata": {},
   "outputs": [
    {
     "name": "stderr",
     "output_type": "stream",
     "text": [
      "<ipython-input-3-4b857d83539f>:4: DeprecationWarning: Assignment to 'Bucket.location' is deprecated, as it is only valid before the bucket is created. Instead, pass the location to `Bucket.create`.\n",
      "  bucket.location = 'US'\n"
     ]
    },
    {
     "data": {
      "text/plain": [
       "{'name': 'test-fellowship7',\n",
       " '_properties': {'kind': 'storage#bucket',\n",
       "  'selfLink': 'https://www.googleapis.com/storage/v1/b/test-fellowship7',\n",
       "  'id': 'test-fellowship7',\n",
       "  'name': 'test-fellowship7',\n",
       "  'projectNumber': '115979693236',\n",
       "  'metageneration': '1',\n",
       "  'location': 'US',\n",
       "  'storageClass': 'STANDARD',\n",
       "  'etag': 'CAE=',\n",
       "  'timeCreated': '2022-09-20T05:52:45.623Z',\n",
       "  'updated': '2022-09-20T05:52:45.623Z',\n",
       "  'iamConfiguration': {'bucketPolicyOnly': {'enabled': False},\n",
       "   'uniformBucketLevelAccess': {'enabled': False},\n",
       "   'publicAccessPrevention': 'inherited'},\n",
       "  'locationType': 'multi-region',\n",
       "  'rpo': 'DEFAULT'},\n",
       " '_changes': set(),\n",
       " '_client': <google.cloud.storage.client.Client at 0x2667ce94a30>,\n",
       " '_acl': <google.cloud.storage.acl.BucketACL at 0x2667e05e0a0>,\n",
       " '_default_object_acl': <google.cloud.storage.acl.DefaultObjectACL at 0x2667e05e0d0>,\n",
       " '_label_removals': set(),\n",
       " '_user_project': None}"
      ]
     },
     "execution_count": 3,
     "metadata": {},
     "output_type": "execute_result"
    }
   ],
   "source": [
    "# Create a new bucket\n",
    "def create_new_bucket(bucket_name):\n",
    "    bucket = storage_client.bucket(bucket_name)\n",
    "    bucket.location = 'US'\n",
    "    bucket = storage_client.create_bucket(bucket)\n",
    "    return bucket\n",
    "\n",
    "bucket_name = 'test-fellowship7'\n",
    "bucket = create_new_bucket(bucket_name)\n",
    "\n",
    "# print bucket details\n",
    "vars(bucket)\n",
    "\n",
    "# accessing specific bucket details\n",
    "#my_bucket = storage_client.get_bucket(bucket_name) # Change your bucket name if you have different bucket name\n",
    "#vars(my_bucket)"
   ]
  },
  {
   "cell_type": "code",
   "execution_count": 4,
   "metadata": {},
   "outputs": [],
   "source": [
    "# Get multiple files from internet url to upload later\n",
    "def get_files_from_url(url):\n",
    "    data = requests.get(url)\n",
    "    content_type = data.headers['Content-Type']\n",
    "\n",
    "    # Note: This code is only for jpg, png, csv and txt files\n",
    "    if 'image' in content_type:\n",
    "        if 'png' in content_type:\n",
    "            open('file/data_url.png', 'wb').write(data.content)\n",
    "        elif 'jpg' in content_type:\n",
    "            open('file/data_url.jpg', 'wb').write(data.content)\n",
    "    elif 'text' in content_type:\n",
    "        if 'csv' in content_type:\n",
    "            open('file/data_url.csv', 'wb').write(data.content)\n",
    "        elif 'plain' in content_type:\n",
    "            open('file/data_url.txt', 'wb').write(data.content)\n",
    "    else:\n",
    "        print(f\"TYPE: {content_type} TYPE NOT SUPPORTED\")\n",
    "\n",
    "urls = [\n",
    "    'https://awsimages.detik.net.id/community/media/visual/2019/11/18/b90ff92b-1980-4558-b068-26605f535480_43.png?w=700&q=90',\n",
    "    'https://filesamples.com/samples/document/txt/sample3.txt',\n",
    "    'https://stats.govt.nz/assets/Uploads/Annual-enterprise-survey/Annual-enterprise-survey-2021-financial-year-provisional/Download-data/annual-enterprise-survey-2021-financial-year-provisional-csv.csv'\n",
    "]\n",
    "for i in urls:\n",
    "    get_files_from_url(i)"
   ]
  },
  {
   "cell_type": "code",
   "execution_count": 5,
   "metadata": {},
   "outputs": [
    {
     "name": "stdout",
     "output_type": "stream",
     "text": [
      ".gitignore is not uploaded\n",
      "Success upload data_url.csv\n",
      "Success upload data_url.png\n",
      "Success upload data_url.txt\n"
     ]
    }
   ],
   "source": [
    "# Upload files from url to bucket\n",
    "def upload_to_bucket(blob_name, file_path, bucket_name):\n",
    "    \"\"\"Upload files from local/url to bucket\"\"\"\n",
    "    try:\n",
    "        bucket = storage_client.get_bucket(bucket_name)\n",
    "        blob = bucket.blob(blob_name)\n",
    "        blob.upload_from_filename(file_path)\n",
    "        return True\n",
    "    except Exception as e:\n",
    "        print(e)\n",
    "        return\n",
    "\n",
    "directory = os.path.join(os.getcwd(), 'file')\n",
    "\n",
    "for filename in os.listdir(directory):\n",
    "    f = os.path.join(directory, filename)\n",
    "    if 'data_url.jpg' in f:\n",
    "        upload_to_bucket('uploaded_image_jpg', f, bucket_name)\n",
    "        print(f'Success upload {filename}')\n",
    "    elif 'data_url.png' in f:\n",
    "        upload_to_bucket('uploaded_image_png', f, bucket_name)\n",
    "        print(f'Success upload {filename}')\n",
    "    elif 'data_url.csv' in f:\n",
    "        upload_to_bucket('upload_csv_file', f, bucket_name)\n",
    "        print(f'Success upload {filename}')\n",
    "    elif 'data_url.txt' in f:\n",
    "        upload_to_bucket('upload_txt_file', f, bucket_name)\n",
    "        print(f'Success upload {filename}')\n",
    "    else:\n",
    "        print(f'{filename} is not uploaded')\n"
   ]
  },
  {
   "cell_type": "code",
   "execution_count": 6,
   "metadata": {},
   "outputs": [
    {
     "name": "stdout",
     "output_type": "stream",
     "text": [
      "upload_csv_file\n",
      "upload_txt_file\n",
      "uploaded_image_png\n"
     ]
    }
   ],
   "source": [
    "# Get list of objects in bucket\n",
    "def list_blobs(bucket_name):\n",
    "    \"\"\"Lists all the blobs in the bucket.\"\"\"\n",
    "    storage_client = storage.Client()\n",
    "    \n",
    "    # Note: Client.list_blobs requires at least package version 1.17.0.\n",
    "    blobs = storage_client.list_blobs(bucket_name)\n",
    "\n",
    "    # Note: The call returns a response only when the iterator is consumed.\n",
    "    for blob in blobs:\n",
    "        print(blob.name)\n",
    "    return blobs\n",
    "\n",
    "blob_list = list_blobs(bucket_name)"
   ]
  },
  {
   "cell_type": "code",
   "execution_count": 7,
   "metadata": {},
   "outputs": [
    {
     "name": "stdout",
     "output_type": "stream",
     "text": [
      "Downloaded public blob upload_csv_file from bucekt test-fellowship7 to c:\\Google Cloud Storage Project\\download/data_csv.csv.\n",
      "Downloaded public blob upload_txt_file from bucekt test-fellowship7 to c:\\Google Cloud Storage Project\\download/txt_file.csv.\n"
     ]
    }
   ],
   "source": [
    "# Download files from bucket to local\n",
    "def download_file_from_bucket(blob_name, file_path, bucket_name):\n",
    "    \"\"\"Downloads a public blob from the bucket\"\"\"\n",
    "    # bucket_name = \"your-bucket-name\"\n",
    "    # blob_name = \"storage-object-name\"\n",
    "    # file_path = \"local/path/to/file\"\n",
    "\n",
    "    bucket = storage_client.bucket(bucket_name)\n",
    "    blob = bucket.blob(blob_name)\n",
    "    blob.download_to_filename(file_path)\n",
    "\n",
    "    print(\n",
    "        \"Downloaded public blob {} from bucekt {} to {}.\".format(\n",
    "            blob_name, bucket.name, file_path\n",
    "        )\n",
    "    )\n",
    "\n",
    "download_file_from_bucket('upload_csv_file', os.path.join(os.getcwd(), 'download/data_csv.csv'), bucket_name)\n",
    "download_file_from_bucket('upload_txt_file', os.path.join(os.getcwd(), 'download/txt_file.csv'), bucket_name)"
   ]
  }
 ],
 "metadata": {
  "kernelspec": {
   "display_name": "Python 3.8.8 ('base')",
   "language": "python",
   "name": "python3"
  },
  "language_info": {
   "codemirror_mode": {
    "name": "ipython",
    "version": 3
   },
   "file_extension": ".py",
   "mimetype": "text/x-python",
   "name": "python",
   "nbconvert_exporter": "python",
   "pygments_lexer": "ipython3",
   "version": "3.8.8"
  },
  "orig_nbformat": 4,
  "vscode": {
   "interpreter": {
    "hash": "730af09af5df2f11355185ff1aff2594d5b571e74f741d002586b6f9b04a1b77"
   }
  }
 },
 "nbformat": 4,
 "nbformat_minor": 2
}
